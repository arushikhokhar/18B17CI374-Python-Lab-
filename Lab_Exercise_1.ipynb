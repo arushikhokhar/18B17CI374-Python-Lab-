{
  "nbformat": 4,
  "nbformat_minor": 0,
  "metadata": {
    "colab": {
      "name": "Lab Exercise 1.ipynb",
      "provenance": []
    },
    "kernelspec": {
      "name": "python3",
      "display_name": "Python 3"
    }
  },
  "cells": [
    {
      "cell_type": "markdown",
      "metadata": {
        "id": "txx-Don2lojC",
        "colab_type": "text"
      },
      "source": [
        "Exercise 1: WAP to add three numbers and print result. Also use Comments in the code. \n"
      ]
    },
    {
      "cell_type": "code",
      "metadata": {
        "id": "g92wNWidlMYv",
        "colab_type": "code",
        "colab": {
          "base_uri": "https://localhost:8080/",
          "height": 35
        },
        "outputId": "f713a2c8-aac2-4791-d791-6f72b9b03c8f"
      },
      "source": [
        "a=10\n",
        "b=20\n",
        "c=30\n",
        "d=a+b+c\n",
        "d"
      ],
      "execution_count": 7,
      "outputs": [
        {
          "output_type": "execute_result",
          "data": {
            "text/plain": [
              "60"
            ]
          },
          "metadata": {
            "tags": []
          },
          "execution_count": 7
        }
      ]
    },
    {
      "cell_type": "markdown",
      "metadata": {
        "id": "MxcX5WdKl009",
        "colab_type": "text"
      },
      "source": [
        "Exercise 2: WAP to display your name & roll number in python."
      ]
    },
    {
      "cell_type": "code",
      "metadata": {
        "id": "XZthKhocl4sM",
        "colab_type": "code",
        "colab": {
          "base_uri": "https://localhost:8080/",
          "height": 89
        },
        "outputId": "5cb3ace8-7e1f-4181-8f91-c40eb7c3f02a"
      },
      "source": [
        "name=input(\"Enter your name: \")\n",
        "roll_no=int(input(\"Enter your roll number: \"))\n",
        "print(\"name is : \",name)\n",
        "print(\"roll number is : \",roll_no)"
      ],
      "execution_count": 5,
      "outputs": [
        {
          "output_type": "stream",
          "text": [
            "Enter your name: Arushi\n",
            "Enter your roll number: 191339\n",
            "name is :  Arushi\n",
            "roll number is :  191339\n"
          ],
          "name": "stdout"
        }
      ]
    },
    {
      "cell_type": "markdown",
      "metadata": {
        "id": "iOHaOPs9mYCY",
        "colab_type": "text"
      },
      "source": [
        "Exercise 3: WAP to add three numbers, inputs from user and print result"
      ]
    },
    {
      "cell_type": "code",
      "metadata": {
        "id": "idFjAjG7mnTa",
        "colab_type": "code",
        "colab": {
          "base_uri": "https://localhost:8080/",
          "height": 89
        },
        "outputId": "91b26999-b582-4dad-f4a5-c44754733e84"
      },
      "source": [
        "a=int(input(\"Enter first number\"))\n",
        "b=int(input(\"Enter second number\"))\n",
        "c=int(input(\"Enter third number\"))\n",
        "d=a+b+c\n",
        "d"
      ],
      "execution_count": 6,
      "outputs": [
        {
          "output_type": "stream",
          "text": [
            "Enter first number1\n",
            "Enter second number2\n",
            "Enter third number3\n"
          ],
          "name": "stdout"
        },
        {
          "output_type": "execute_result",
          "data": {
            "text/plain": [
              "6"
            ]
          },
          "metadata": {
            "tags": []
          },
          "execution_count": 6
        }
      ]
    },
    {
      "cell_type": "markdown",
      "metadata": {
        "id": "Xp155RpPm3Il",
        "colab_type": "text"
      },
      "source": [
        "Exercise 4: WAP to concatenate your first & last name. Take inputs from keyboard and then print"
      ]
    },
    {
      "cell_type": "code",
      "metadata": {
        "id": "5uE6D79smn6R",
        "colab_type": "code",
        "colab": {
          "base_uri": "https://localhost:8080/",
          "height": 71
        },
        "outputId": "53b83b8a-251f-431f-d926-ba76280900ca"
      },
      "source": [
        "first_name=input(\"Enter your first name: \")\n",
        "last_name=input(\"Enter your last name: \")\n",
        "fullname=first_name+' '+last_name\n",
        "print(fullname)"
      ],
      "execution_count": 10,
      "outputs": [
        {
          "output_type": "stream",
          "text": [
            "Enter your first name: Arushi\n",
            "Enter your last name: Khokhar\n",
            "Arushi Khokhar\n"
          ],
          "name": "stdout"
        }
      ]
    },
    {
      "cell_type": "markdown",
      "metadata": {
        "id": "GtzjzemBnjyt",
        "colab_type": "text"
      },
      "source": [
        "Exercise 5: WAP to declare three variables x,y and z and assign the values 33, 17.5 and \"Python\" in one single line & print data type of each variable."
      ]
    },
    {
      "cell_type": "code",
      "metadata": {
        "id": "OY5_jaTLnX0d",
        "colab_type": "code",
        "colab": {
          "base_uri": "https://localhost:8080/",
          "height": 71
        },
        "outputId": "48354221-cac5-47a7-8e69-e1252981a4fa"
      },
      "source": [
        "x,y,z=33,17.5,\"Python\"\n",
        "print(type(x))\n",
        "print(type(y))\n",
        "print(type(z))"
      ],
      "execution_count": 11,
      "outputs": [
        {
          "output_type": "stream",
          "text": [
            "<class 'int'>\n",
            "<class 'float'>\n",
            "<class 'str'>\n"
          ],
          "name": "stdout"
        }
      ]
    },
    {
      "cell_type": "markdown",
      "metadata": {
        "id": "inB9Vp1wn5Ak",
        "colab_type": "text"
      },
      "source": [
        "Exercise 6: WAP to convert an integer variable x=17 into complex number"
      ]
    },
    {
      "cell_type": "code",
      "metadata": {
        "id": "BCWUR2bVnxMb",
        "colab_type": "code",
        "colab": {
          "base_uri": "https://localhost:8080/",
          "height": 35
        },
        "outputId": "d54dcf35-bc9c-45c2-ccbf-929c7ddd5ed5"
      },
      "source": [
        "x=17\n",
        "complex(x)"
      ],
      "execution_count": 12,
      "outputs": [
        {
          "output_type": "execute_result",
          "data": {
            "text/plain": [
              "(17+0j)"
            ]
          },
          "metadata": {
            "tags": []
          },
          "execution_count": 12
        }
      ]
    },
    {
      "cell_type": "code",
      "metadata": {
        "id": "qy3pOD4CoKH4",
        "colab_type": "code",
        "colab": {}
      },
      "source": [
        ""
      ],
      "execution_count": null,
      "outputs": []
    }
  ]
}